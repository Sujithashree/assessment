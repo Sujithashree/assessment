{
  "nbformat": 4,
  "nbformat_minor": 0,
  "metadata": {
    "colab": {
      "provenance": [],
      "toc_visible": true
    },
    "kernelspec": {
      "name": "python3",
      "display_name": "Python 3"
    },
    "language_info": {
      "name": "python"
    }
  },
  "cells": [
    {
      "cell_type": "code",
      "execution_count": null,
      "metadata": {
        "colab": {
          "base_uri": "https://localhost:8080/"
        },
        "id": "tqACj4qhewL-",
        "outputId": "7de16c71-9d05-45b9-bd49-497ddfa70729"
      },
      "outputs": [
        {
          "output_type": "stream",
          "name": "stdout",
          "text": [
            "30\n"
          ]
        }
      ],
      "source": [
        "def add(x,y):\n",
        "  return x+y\n",
        "res = add(10,20)\n",
        "print(res)\n"
      ]
    },
    {
      "cell_type": "code",
      "source": [
        "result = lambda x,y:x+y\n",
        "print(result(10,20))"
      ],
      "metadata": {
        "colab": {
          "base_uri": "https://localhost:8080/"
        },
        "id": "yNLOTPuof5IV",
        "outputId": "17e39a9c-04d6-47ee-c352-caf42797509e"
      },
      "execution_count": null,
      "outputs": [
        {
          "output_type": "stream",
          "name": "stdout",
          "text": [
            "30\n"
          ]
        }
      ]
    },
    {
      "cell_type": "code",
      "source": [
        "result = lambda x,y:x*y\n",
        "print(result(10,20))"
      ],
      "metadata": {
        "colab": {
          "base_uri": "https://localhost:8080/"
        },
        "id": "47qYp-BwgRe4",
        "outputId": "8f11e9a2-ab9b-4890-b87e-2cce10451095"
      },
      "execution_count": null,
      "outputs": [
        {
          "output_type": "stream",
          "name": "stdout",
          "text": [
            "200\n"
          ]
        }
      ]
    },
    {
      "cell_type": "code",
      "source": [
        "def square(i):\n",
        "  for i in range(i):\n",
        "    i = i**2\n",
        "    return i\n",
        "    res = square(20)\n",
        "    print(res)"
      ],
      "metadata": {
        "id": "1CjgHZH7k5uO"
      },
      "execution_count": null,
      "outputs": []
    },
    {
      "cell_type": "markdown",
      "source": [
        "# New Section"
      ],
      "metadata": {
        "id": "ddOPswcisz_h"
      }
    }
  ]
}