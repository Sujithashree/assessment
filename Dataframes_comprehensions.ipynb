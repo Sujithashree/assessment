{
  "nbformat": 4,
  "nbformat_minor": 0,
  "metadata": {
    "colab": {
      "provenance": [],
      "toc_visible": true
    },
    "kernelspec": {
      "name": "python3",
      "display_name": "Python 3"
    },
    "language_info": {
      "name": "python"
    }
  },
  "cells": [
    {
      "cell_type": "code",
      "execution_count": 1,
      "metadata": {
        "colab": {
          "base_uri": "https://localhost:8080/"
        },
        "id": "4Y2cv78VYuoL",
        "outputId": "eac909ab-c828-4df4-841b-3511bb73afc7"
      },
      "outputs": [
        {
          "output_type": "stream",
          "name": "stdout",
          "text": [
            "{'screen_time': [2, 4, 6], 'sleep_hours': [3, 7, 8], 'stu_name': ['sujitha', 'keerthana', 'sonal']}\n",
            "   screen_time  sleep_hours   stu_name\n",
            "0            2            3    sujitha\n",
            "1            4            7  keerthana\n",
            "2            6            8      sonal\n"
          ]
        }
      ],
      "source": [
        "import pandas as pd\n",
        "screen_time = [2,4,6]\n",
        "sleep_hours = [3,7,8]\n",
        "stu_name = [\"sujitha\",\"keerthana\",\"sonal\"]\n",
        "dict1 = {\n",
        "    \"screen_time\":screen_time,\n",
        "    \"sleep_hours\":sleep_hours,\n",
        "    \"stu_name\":stu_name\n",
        "}\n",
        "df = pd.DataFrame(dict1)\n",
        "print(dict1)\n",
        "df = pd.DataFrame(dict1)\n",
        "print(df)\n"
      ]
    },
    {
      "cell_type": "code",
      "source": [
        "list = [1,2,3,5]\n",
        "res = [i/2 for i in range(1,20) ]\n",
        "print(res)"
      ],
      "metadata": {
        "colab": {
          "base_uri": "https://localhost:8080/"
        },
        "id": "zJcwNJ0VcAnl",
        "outputId": "3e8fdd1b-259d-4b10-be8e-09cee17918ae"
      },
      "execution_count": 3,
      "outputs": [
        {
          "output_type": "stream",
          "name": "stdout",
          "text": [
            "[0.5, 1.0, 1.5, 2.0, 2.5, 3.0, 3.5, 4.0, 4.5, 5.0, 5.5, 6.0, 6.5, 7.0, 7.5, 8.0, 8.5, 9.0, 9.5]\n"
          ]
        }
      ]
    },
    {
      "cell_type": "code",
      "source": [
        "words = [\"LOWER\",\"W\",\"PYTHON\"]\n",
        "lower = [i.lower() for i in words]\n",
        "print(lower)"
      ],
      "metadata": {
        "colab": {
          "base_uri": "https://localhost:8080/"
        },
        "id": "Ps_7J24Jd_Sn",
        "outputId": "14d8626a-9f50-482a-cf86-77193a59a9e8"
      },
      "execution_count": 4,
      "outputs": [
        {
          "output_type": "stream",
          "name": "stdout",
          "text": [
            "['lower', 'w', 'python']\n"
          ]
        }
      ]
    },
    {
      "cell_type": "code",
      "source": [
        "words = [\"LOWER\",\"W\",\"PYTHON\"]\n",
        "lower = [i.upper() for i in words]\n",
        "print(lower)"
      ],
      "metadata": {
        "colab": {
          "base_uri": "https://localhost:8080/"
        },
        "id": "iRyof2gQeuEe",
        "outputId": "ab563144-92d5-4c82-b02b-c50dd1559111"
      },
      "execution_count": 5,
      "outputs": [
        {
          "output_type": "stream",
          "name": "stdout",
          "text": [
            "['LOWER', 'W', 'PYTHON']\n"
          ]
        }
      ]
    },
    {
      "cell_type": "code",
      "source": [
        "import math\n",
        "numbers = [1, 4, 9, 16, 25]\n",
        "sq = tuple(math.sqrt(i) for i in numbers)\n",
        "print(sq)"
      ],
      "metadata": {
        "colab": {
          "base_uri": "https://localhost:8080/"
        },
        "id": "YuPGFsUKf3a1",
        "outputId": "b7408d3d-38d6-4d23-aed6-864631712ebc"
      },
      "execution_count": 10,
      "outputs": [
        {
          "output_type": "stream",
          "name": "stdout",
          "text": [
            "(1.0, 2.0, 3.0, 4.0, 5.0)\n"
          ]
        }
      ]
    },
    {
      "cell_type": "code",
      "source": [
        "list = [1,2,3,4,5,6,7,8,9]\n",
        "res= [i for i in list if i%2==0]\n",
        "print(\"Even numbers\",res)"
      ],
      "metadata": {
        "colab": {
          "base_uri": "https://localhost:8080/"
        },
        "id": "9NS_4qPBhGYq",
        "outputId": "30dfeb62-0818-4543-b436-5a91fdb3bf9e"
      },
      "execution_count": 11,
      "outputs": [
        {
          "output_type": "stream",
          "name": "stdout",
          "text": [
            "Even numbers [2, 4, 6, 8]\n"
          ]
        }
      ]
    },
    {
      "cell_type": "markdown",
      "source": [
        "# New Section"
      ],
      "metadata": {
        "id": "a_0u3ZHmhEU1"
      }
    }
  ]
}