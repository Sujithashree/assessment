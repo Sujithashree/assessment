{
  "nbformat": 4,
  "nbformat_minor": 0,
  "metadata": {
    "colab": {
      "provenance": []
    },
    "kernelspec": {
      "name": "python3",
      "display_name": "Python 3"
    },
    "language_info": {
      "name": "python"
    }
  },
  "cells": [
    {
      "cell_type": "code",
      "execution_count": null,
      "metadata": {
        "id": "3evslBOInbRR"
      },
      "outputs": [],
      "source": [
        "import pandas as pd\n",
        "import seaborn as sns\n",
        "import matplotlib.pyplot as plt\n",
        "data = {\n",
        "    'Temperature': [22,23,24,50,34,45,23,56,78,54,23,12,11,13,15,53],\n",
        "    'Humidity': [65,67,88,76,69,87,98,78,90,56,87,99],\n",
        "    'Wind Speed' : [12,10,22,13,14,15,32,11,17,19,21,20],\n",
        "    'Pressure': [1015,234,3213,1331,5643,4453,6654,2356,7657,1011]\n",
        "\n",
        "}\n",
        "df = pd.DataFrame(data)\n",
        "plt.figure(figsize=(8,6))\n",
        "plt.scatter(df['Temperature'],df['Humidity'],color='red',label='Humidity')\n",
        "plt.figure(figsize=(8,6))\n",
        "plt.scatter(df['Stock_A_Returns'],df['Stock_B_Returns'],color='green',label='Stock_B_Returns')"
      ]
    }
  ]
}