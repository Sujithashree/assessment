{
  "nbformat": 4,
  "nbformat_minor": 0,
  "metadata": {
    "colab": {
      "provenance": []
    },
    "kernelspec": {
      "name": "python3",
      "display_name": "Python 3"
    },
    "language_info": {
      "name": "python"
    }
  },
  "cells": [
    {
      "cell_type": "code",
      "execution_count": null,
      "metadata": {
        "colab": {
          "base_uri": "https://localhost:8080/"
        },
        "id": "iPmJ2PQEmYkk",
        "outputId": "b44cd642-fb60-4a37-b7d0-2876b6422aa3"
      },
      "outputs": [
        {
          "output_type": "stream",
          "name": "stdout",
          "text": [
            "do\n",
            "what\n",
            "to\n"
          ]
        }
      ],
      "source": [
        "string = \"do what i say to the world\"\n",
        "for word in string.split():  # Split the string into words\n",
        "    if len(word) % 2 == 0:   # Check if the word length is even\n",
        "        print(word)\n"
      ]
    },
    {
      "cell_type": "code",
      "source": [
        "string = \"do what i say to the world\"\n",
        "\n",
        "# Iterate over each word in the string\n",
        "for word in string.split():\n",
        "    if len(word) > 3:  # Check if the length of the word is more than 3\n",
        "        print(word[0])  # Print the first letter of the word\n"
      ],
      "metadata": {
        "colab": {
          "base_uri": "https://localhost:8080/"
        },
        "id": "egno5z5Vn6wJ",
        "outputId": "15440874-3d7f-49e9-920c-1dda8396dddf"
      },
      "execution_count": null,
      "outputs": [
        {
          "output_type": "stream",
          "name": "stdout",
          "text": [
            "w\n",
            "w\n"
          ]
        }
      ]
    },
    {
      "cell_type": "code",
      "source": [
        "string = \"welcome \""
      ],
      "metadata": {
        "id": "CVul2SQUsY2z"
      },
      "execution_count": null,
      "outputs": []
    }
  ]
}